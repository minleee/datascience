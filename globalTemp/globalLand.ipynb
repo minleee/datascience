{
 "cells": [
  {
   "cell_type": "markdown",
   "metadata": {},
   "source": [
    "## Data Science Project (GlobalLandTemperature.csv)\n",
    "INFO 1998 Fall 2020\n",
    "<br>\n",
    "<br>\n",
    "Completed: December 16, 2020 11:59PM\n",
    "<br>\n",
    "<br>\n",
    "Members: Emma Wang (yw345), Seungmin Lee (sl2324), Lydia Kim (lmk225)"
   ]
  },
  {
   "cell_type": "markdown",
   "metadata": {},
   "source": [
    "## Preprocessing and Manipulation\n",
    "\n",
    "Dataset: https://www.kaggle.com/berkeleyearth/climate-change-earth-surface-temperature-data?select=GlobalLandTemperaturesByMajorCity.csv\n",
    "\n",
    "### Original Problem and Hypothesis from Proposal\n",
    "Problem: We want to know if there is a relationship between longitude & latitude vs. temperature change\n",
    "in the major city for a period of 100 years (1913-2013). We will be looking at a specific month,\n",
    "for instance the change in the temperature in March over 100 years. Moreover, we want to\n",
    "predict the average temperature change of major cities based on its longitude and latitude\n",
    "<br>\n",
    "<br>\n",
    "Hypothesis: The closer the latitude is to zero and the further away the longitude is to 0, the greater\n",
    "temperature change the city will have. We are also interested in whether the temperature change\n",
    "for every city is close to each other. Through this question, we want to know if all major cities\n",
    "are affected by climate change the same way.\n",
    "\n",
    "### Revised Problem and Hypothesis from Proposal\n",
    "After working with our original problem and hypothesis, we discovered that it was not meaningful for us to examine the relationship between longitude & latitude and temperature changes in major cities for a period of time. We have updated the goal of our project to examine and compare the change in temperatures between two major cities. We have chosen two cities, Los Angeles and St. Petersburg, for our project as they are on opposite sides of the world. We wanted to see given the temperature of the 1st day of March from 1950-1957, could we predict the temperature of the 1st day of March from 1957-2013. We wanted to compare the models and see if both models would produce a similar accuracy.\n",
    "<br>\n",
    "<br>\n",
    "Hypothesis: The Los Angeles and St. Petersburg models will have a similar accuracy.\n",
    "_____"
   ]
  },
  {
   "cell_type": "code",
   "execution_count": 1,
   "metadata": {},
   "outputs": [],
   "source": [
    "# import libraries\n",
    "import pandas as pd\n",
    "import numpy as np\n",
    "import matplotlib.pyplot as plt\n",
    "%matplotlib inline\n",
    "from sklearn import datasets\n",
    "from sklearn.linear_model import LinearRegression\n",
    "from sklearn.model_selection import train_test_split\n",
    "from statsmodels.tsa.ar_model import AutoReg\n",
    "from pandas.plotting import lag_plot, autocorrelation_plot\n",
    "import warnings; warnings.simplefilter('ignore')\n",
    "from sklearn.metrics import mean_squared_error"
   ]
  },
  {
   "cell_type": "code",
   "execution_count": 2,
   "metadata": {},
   "outputs": [
    {
     "data": {
      "text/html": [
       "<div>\n",
       "<style scoped>\n",
       "    .dataframe tbody tr th:only-of-type {\n",
       "        vertical-align: middle;\n",
       "    }\n",
       "\n",
       "    .dataframe tbody tr th {\n",
       "        vertical-align: top;\n",
       "    }\n",
       "\n",
       "    .dataframe thead th {\n",
       "        text-align: right;\n",
       "    }\n",
       "</style>\n",
       "<table border=\"1\" class=\"dataframe\">\n",
       "  <thead>\n",
       "    <tr style=\"text-align: right;\">\n",
       "      <th></th>\n",
       "      <th>dt</th>\n",
       "      <th>AverageTemperature</th>\n",
       "      <th>AverageTemperatureUncertainty</th>\n",
       "      <th>City</th>\n",
       "      <th>Country</th>\n",
       "      <th>Latitude</th>\n",
       "      <th>Longitude</th>\n",
       "    </tr>\n",
       "  </thead>\n",
       "  <tbody>\n",
       "    <tr>\n",
       "      <th>0</th>\n",
       "      <td>1849-01-01</td>\n",
       "      <td>26.704</td>\n",
       "      <td>1.435</td>\n",
       "      <td>Abidjan</td>\n",
       "      <td>Côte D'Ivoire</td>\n",
       "      <td>5.63N</td>\n",
       "      <td>3.23W</td>\n",
       "    </tr>\n",
       "    <tr>\n",
       "      <th>1</th>\n",
       "      <td>1849-02-01</td>\n",
       "      <td>27.434</td>\n",
       "      <td>1.362</td>\n",
       "      <td>Abidjan</td>\n",
       "      <td>Côte D'Ivoire</td>\n",
       "      <td>5.63N</td>\n",
       "      <td>3.23W</td>\n",
       "    </tr>\n",
       "    <tr>\n",
       "      <th>2</th>\n",
       "      <td>1849-03-01</td>\n",
       "      <td>28.101</td>\n",
       "      <td>1.612</td>\n",
       "      <td>Abidjan</td>\n",
       "      <td>Côte D'Ivoire</td>\n",
       "      <td>5.63N</td>\n",
       "      <td>3.23W</td>\n",
       "    </tr>\n",
       "    <tr>\n",
       "      <th>3</th>\n",
       "      <td>1849-04-01</td>\n",
       "      <td>26.140</td>\n",
       "      <td>1.387</td>\n",
       "      <td>Abidjan</td>\n",
       "      <td>Côte D'Ivoire</td>\n",
       "      <td>5.63N</td>\n",
       "      <td>3.23W</td>\n",
       "    </tr>\n",
       "    <tr>\n",
       "      <th>4</th>\n",
       "      <td>1849-05-01</td>\n",
       "      <td>25.427</td>\n",
       "      <td>1.200</td>\n",
       "      <td>Abidjan</td>\n",
       "      <td>Côte D'Ivoire</td>\n",
       "      <td>5.63N</td>\n",
       "      <td>3.23W</td>\n",
       "    </tr>\n",
       "    <tr>\n",
       "      <th>...</th>\n",
       "      <td>...</td>\n",
       "      <td>...</td>\n",
       "      <td>...</td>\n",
       "      <td>...</td>\n",
       "      <td>...</td>\n",
       "      <td>...</td>\n",
       "      <td>...</td>\n",
       "    </tr>\n",
       "    <tr>\n",
       "      <th>239172</th>\n",
       "      <td>2013-05-01</td>\n",
       "      <td>18.979</td>\n",
       "      <td>0.807</td>\n",
       "      <td>Xian</td>\n",
       "      <td>China</td>\n",
       "      <td>34.56N</td>\n",
       "      <td>108.97E</td>\n",
       "    </tr>\n",
       "    <tr>\n",
       "      <th>239173</th>\n",
       "      <td>2013-06-01</td>\n",
       "      <td>23.522</td>\n",
       "      <td>0.647</td>\n",
       "      <td>Xian</td>\n",
       "      <td>China</td>\n",
       "      <td>34.56N</td>\n",
       "      <td>108.97E</td>\n",
       "    </tr>\n",
       "    <tr>\n",
       "      <th>239174</th>\n",
       "      <td>2013-07-01</td>\n",
       "      <td>25.251</td>\n",
       "      <td>1.042</td>\n",
       "      <td>Xian</td>\n",
       "      <td>China</td>\n",
       "      <td>34.56N</td>\n",
       "      <td>108.97E</td>\n",
       "    </tr>\n",
       "    <tr>\n",
       "      <th>239175</th>\n",
       "      <td>2013-08-01</td>\n",
       "      <td>24.528</td>\n",
       "      <td>0.840</td>\n",
       "      <td>Xian</td>\n",
       "      <td>China</td>\n",
       "      <td>34.56N</td>\n",
       "      <td>108.97E</td>\n",
       "    </tr>\n",
       "    <tr>\n",
       "      <th>239176</th>\n",
       "      <td>2013-09-01</td>\n",
       "      <td>NaN</td>\n",
       "      <td>NaN</td>\n",
       "      <td>Xian</td>\n",
       "      <td>China</td>\n",
       "      <td>34.56N</td>\n",
       "      <td>108.97E</td>\n",
       "    </tr>\n",
       "  </tbody>\n",
       "</table>\n",
       "<p>239177 rows × 7 columns</p>\n",
       "</div>"
      ],
      "text/plain": [
       "                dt  AverageTemperature  AverageTemperatureUncertainty  \\\n",
       "0       1849-01-01              26.704                          1.435   \n",
       "1       1849-02-01              27.434                          1.362   \n",
       "2       1849-03-01              28.101                          1.612   \n",
       "3       1849-04-01              26.140                          1.387   \n",
       "4       1849-05-01              25.427                          1.200   \n",
       "...            ...                 ...                            ...   \n",
       "239172  2013-05-01              18.979                          0.807   \n",
       "239173  2013-06-01              23.522                          0.647   \n",
       "239174  2013-07-01              25.251                          1.042   \n",
       "239175  2013-08-01              24.528                          0.840   \n",
       "239176  2013-09-01                 NaN                            NaN   \n",
       "\n",
       "           City        Country Latitude Longitude  \n",
       "0       Abidjan  Côte D'Ivoire    5.63N     3.23W  \n",
       "1       Abidjan  Côte D'Ivoire    5.63N     3.23W  \n",
       "2       Abidjan  Côte D'Ivoire    5.63N     3.23W  \n",
       "3       Abidjan  Côte D'Ivoire    5.63N     3.23W  \n",
       "4       Abidjan  Côte D'Ivoire    5.63N     3.23W  \n",
       "...         ...            ...      ...       ...  \n",
       "239172     Xian          China   34.56N   108.97E  \n",
       "239173     Xian          China   34.56N   108.97E  \n",
       "239174     Xian          China   34.56N   108.97E  \n",
       "239175     Xian          China   34.56N   108.97E  \n",
       "239176     Xian          China   34.56N   108.97E  \n",
       "\n",
       "[239177 rows x 7 columns]"
      ]
     },
     "execution_count": 2,
     "metadata": {},
     "output_type": "execute_result"
    }
   ],
   "source": [
    "# import and display dataset\n",
    "climate_data = pd.read_csv(\"GlobalLandTemperaturesByMajorCity.csv\")\n",
    "climate_data"
   ]
  },
  {
   "cell_type": "code",
   "execution_count": 3,
   "metadata": {},
   "outputs": [
    {
     "data": {
      "text/html": [
       "<div>\n",
       "<style scoped>\n",
       "    .dataframe tbody tr th:only-of-type {\n",
       "        vertical-align: middle;\n",
       "    }\n",
       "\n",
       "    .dataframe tbody tr th {\n",
       "        vertical-align: top;\n",
       "    }\n",
       "\n",
       "    .dataframe thead th {\n",
       "        text-align: right;\n",
       "    }\n",
       "</style>\n",
       "<table border=\"1\" class=\"dataframe\">\n",
       "  <thead>\n",
       "    <tr style=\"text-align: right;\">\n",
       "      <th></th>\n",
       "      <th>dt</th>\n",
       "      <th>AverageTemperature</th>\n",
       "      <th>AverageTemperatureUncertainty</th>\n",
       "      <th>City</th>\n",
       "      <th>Country</th>\n",
       "      <th>Latitude</th>\n",
       "      <th>Longitude</th>\n",
       "    </tr>\n",
       "  </thead>\n",
       "  <tbody>\n",
       "    <tr>\n",
       "      <th>0</th>\n",
       "      <td>1849-01-01</td>\n",
       "      <td>26.704</td>\n",
       "      <td>1.435</td>\n",
       "      <td>Abidjan</td>\n",
       "      <td>Côte D'Ivoire</td>\n",
       "      <td>5.63N</td>\n",
       "      <td>3.23W</td>\n",
       "    </tr>\n",
       "    <tr>\n",
       "      <th>1</th>\n",
       "      <td>1849-02-01</td>\n",
       "      <td>27.434</td>\n",
       "      <td>1.362</td>\n",
       "      <td>Abidjan</td>\n",
       "      <td>Côte D'Ivoire</td>\n",
       "      <td>5.63N</td>\n",
       "      <td>3.23W</td>\n",
       "    </tr>\n",
       "    <tr>\n",
       "      <th>2</th>\n",
       "      <td>1849-03-01</td>\n",
       "      <td>28.101</td>\n",
       "      <td>1.612</td>\n",
       "      <td>Abidjan</td>\n",
       "      <td>Côte D'Ivoire</td>\n",
       "      <td>5.63N</td>\n",
       "      <td>3.23W</td>\n",
       "    </tr>\n",
       "    <tr>\n",
       "      <th>3</th>\n",
       "      <td>1849-04-01</td>\n",
       "      <td>26.140</td>\n",
       "      <td>1.387</td>\n",
       "      <td>Abidjan</td>\n",
       "      <td>Côte D'Ivoire</td>\n",
       "      <td>5.63N</td>\n",
       "      <td>3.23W</td>\n",
       "    </tr>\n",
       "    <tr>\n",
       "      <th>4</th>\n",
       "      <td>1849-05-01</td>\n",
       "      <td>25.427</td>\n",
       "      <td>1.200</td>\n",
       "      <td>Abidjan</td>\n",
       "      <td>Côte D'Ivoire</td>\n",
       "      <td>5.63N</td>\n",
       "      <td>3.23W</td>\n",
       "    </tr>\n",
       "    <tr>\n",
       "      <th>...</th>\n",
       "      <td>...</td>\n",
       "      <td>...</td>\n",
       "      <td>...</td>\n",
       "      <td>...</td>\n",
       "      <td>...</td>\n",
       "      <td>...</td>\n",
       "      <td>...</td>\n",
       "    </tr>\n",
       "    <tr>\n",
       "      <th>239171</th>\n",
       "      <td>2013-04-01</td>\n",
       "      <td>12.563</td>\n",
       "      <td>1.823</td>\n",
       "      <td>Xian</td>\n",
       "      <td>China</td>\n",
       "      <td>34.56N</td>\n",
       "      <td>108.97E</td>\n",
       "    </tr>\n",
       "    <tr>\n",
       "      <th>239172</th>\n",
       "      <td>2013-05-01</td>\n",
       "      <td>18.979</td>\n",
       "      <td>0.807</td>\n",
       "      <td>Xian</td>\n",
       "      <td>China</td>\n",
       "      <td>34.56N</td>\n",
       "      <td>108.97E</td>\n",
       "    </tr>\n",
       "    <tr>\n",
       "      <th>239173</th>\n",
       "      <td>2013-06-01</td>\n",
       "      <td>23.522</td>\n",
       "      <td>0.647</td>\n",
       "      <td>Xian</td>\n",
       "      <td>China</td>\n",
       "      <td>34.56N</td>\n",
       "      <td>108.97E</td>\n",
       "    </tr>\n",
       "    <tr>\n",
       "      <th>239174</th>\n",
       "      <td>2013-07-01</td>\n",
       "      <td>25.251</td>\n",
       "      <td>1.042</td>\n",
       "      <td>Xian</td>\n",
       "      <td>China</td>\n",
       "      <td>34.56N</td>\n",
       "      <td>108.97E</td>\n",
       "    </tr>\n",
       "    <tr>\n",
       "      <th>239175</th>\n",
       "      <td>2013-08-01</td>\n",
       "      <td>24.528</td>\n",
       "      <td>0.840</td>\n",
       "      <td>Xian</td>\n",
       "      <td>China</td>\n",
       "      <td>34.56N</td>\n",
       "      <td>108.97E</td>\n",
       "    </tr>\n",
       "  </tbody>\n",
       "</table>\n",
       "<p>228175 rows × 7 columns</p>\n",
       "</div>"
      ],
      "text/plain": [
       "                dt  AverageTemperature  AverageTemperatureUncertainty  \\\n",
       "0       1849-01-01              26.704                          1.435   \n",
       "1       1849-02-01              27.434                          1.362   \n",
       "2       1849-03-01              28.101                          1.612   \n",
       "3       1849-04-01              26.140                          1.387   \n",
       "4       1849-05-01              25.427                          1.200   \n",
       "...            ...                 ...                            ...   \n",
       "239171  2013-04-01              12.563                          1.823   \n",
       "239172  2013-05-01              18.979                          0.807   \n",
       "239173  2013-06-01              23.522                          0.647   \n",
       "239174  2013-07-01              25.251                          1.042   \n",
       "239175  2013-08-01              24.528                          0.840   \n",
       "\n",
       "           City        Country Latitude Longitude  \n",
       "0       Abidjan  Côte D'Ivoire    5.63N     3.23W  \n",
       "1       Abidjan  Côte D'Ivoire    5.63N     3.23W  \n",
       "2       Abidjan  Côte D'Ivoire    5.63N     3.23W  \n",
       "3       Abidjan  Côte D'Ivoire    5.63N     3.23W  \n",
       "4       Abidjan  Côte D'Ivoire    5.63N     3.23W  \n",
       "...         ...            ...      ...       ...  \n",
       "239171     Xian          China   34.56N   108.97E  \n",
       "239172     Xian          China   34.56N   108.97E  \n",
       "239173     Xian          China   34.56N   108.97E  \n",
       "239174     Xian          China   34.56N   108.97E  \n",
       "239175     Xian          China   34.56N   108.97E  \n",
       "\n",
       "[228175 rows x 7 columns]"
      ]
     },
     "execution_count": 3,
     "metadata": {},
     "output_type": "execute_result"
    }
   ],
   "source": [
    "# drop rows with empty values and display updated dataset\n",
    "climate_data = climate_data.dropna()\n",
    "climate_data"
   ]
  },
  {
   "cell_type": "code",
   "execution_count": 4,
   "metadata": {},
   "outputs": [
    {
     "name": "stdout",
     "output_type": "stream",
     "text": [
      "['Abidjan', 'Addis Abeba', 'Ahmadabad', 'Aleppo', 'Alexandria', 'Ankara', 'Baghdad', 'Bangalore', 'Bangkok', 'Belo Horizonte', 'Berlin', 'Bogotá', 'Bombay', 'Brasília', 'Cairo', 'Calcutta', 'Cali', 'Cape Town', 'Casablanca', 'Changchun', 'Chengdu', 'Chicago', 'Chongqing', 'Dakar', 'Dalian', 'Dar Es Salaam', 'Delhi', 'Dhaka', 'Durban', 'Faisalabad', 'Fortaleza', 'Gizeh', 'Guangzhou', 'Harare', 'Harbin', 'Ho Chi Minh City', 'Hyderabad', 'Ibadan', 'Istanbul', 'Izmir', 'Jaipur', 'Jakarta', 'Jiddah', 'Jinan', 'Kabul', 'Kano', 'Kanpur', 'Karachi', 'Kiev', 'Kinshasa', 'Lagos', 'Lahore', 'Lakhnau', 'Lima', 'London', 'Los Angeles', 'Luanda', 'Madras', 'Madrid', 'Manila', 'Mashhad', 'Melbourne', 'Mexico', 'Mogadishu', 'Montreal', 'Moscow', 'Nagoya', 'Nagpur', 'Nairobi', 'Nanjing', 'New Delhi', 'New York', 'Paris', 'Peking', 'Pune', 'Rangoon', 'Rio De Janeiro', 'Riyadh', 'Rome', 'São Paulo', 'Saint Petersburg', 'Salvador', 'Santiago', 'Santo Domingo', 'Seoul', 'Shanghai', 'Shenyang', 'Singapore', 'Surabaya', 'Surat', 'Sydney', 'Taipei', 'Taiyuan', 'Tangshan', 'Tianjin', 'Tokyo', 'Toronto', 'Umm Durman', 'Wuhan', 'Xian']\n"
     ]
    }
   ],
   "source": [
    "# create a list of cities from dataset\n",
    "city_list=[]\n",
    "for i in climate_data.index:\n",
    "    city=climate_data[\"City\"][i]\n",
    "    if city not in city_list:\n",
    "        city_list.append(city)\n",
    "\n",
    "# create dataframes for each city in dataset\n",
    "citydata_list=[]\n",
    "for city in city_list:\n",
    "    citydata=climate_data[climate_data[\"City\"]==city]\n",
    "    citydata_list.append(citydata)\n",
    "    \n",
    "# display list of cities from dataset\n",
    "print(city_list)"
   ]
  },
  {
   "cell_type": "markdown",
   "metadata": {},
   "source": [
    "For this project, we only wanted to look at the 1st day of March from 1950-2013, so from the \"dt\" column we extracted the year and the month to create a dataset that only includes years 1950-2013 and the first day of March."
   ]
  },
  {
   "cell_type": "code",
   "execution_count": 5,
   "metadata": {},
   "outputs": [],
   "source": [
    "# function that separates year and month from column dt and adds them as new columns to the dataframe\n",
    "def date_separater(dataframe):\n",
    "    dataframe['year'] = ''\n",
    "    dataframe['month'] = ''\n",
    "    dataframe['lat'] = ''\n",
    "    dataframe['long']=''\n",
    "    for row in dataframe.index:\n",
    "        year=int(dataframe[\"dt\"][row][:4])\n",
    "        month=dataframe[\"dt\"][row][5:7]\n",
    "        dataframe['year'][row]=year\n",
    "        dataframe['month'][row]=month\n",
    "        dataframe['lat'][row] = float(dataframe[\"Latitude\"][row][:-1])\n",
    "        dataframe['long'][row] = float(dataframe[\"Longitude\"][row][:-1])  \n",
    "    return dataframe\n",
    "        \n",
    "# function that creates new DataFrame of only March and Year>=1950 data\n",
    "def march_data(dataframe):\n",
    "    dataframe[\"year_int\"]=pd.to_numeric(dataframe[\"year\"])\n",
    "    new_data=dataframe.loc[(dataframe['month'] == '03') & (dataframe['year_int']>=1950)]\n",
    "    return new_data"
   ]
  },
  {
   "cell_type": "markdown",
   "metadata": {},
   "source": [
    "## Visualization 1\n",
    "\n",
    "As described in hypothesis, we would like to compare two cities- Los Angeles and St. Peterburg. "
   ]
  },
  {
   "cell_type": "code",
   "execution_count": 6,
   "metadata": {},
   "outputs": [
    {
     "data": {
      "image/png": "[encoded data removed]",
      "text/plain": [
       "<Figure size 432x288 with 1 Axes>"
      ]
     },
     "metadata": {
      "needs_background": "light"
     },
     "output_type": "display_data"
    },
    {
     "data": {
      "image/png": "[encoded data removed]",
      "text/plain": [
       "<Figure size 432x288 with 1 Axes>"
      ]
     },
     "metadata": {
      "needs_background": "light"
     },
     "output_type": "display_data"
    }
   ],
   "source": [
    "# get index of la\n",
    "la = city_list.index('Los Angeles')\n",
    "\n",
    "# get index of St. Petersburg\n",
    "sp = city_list.index('Saint Petersburg')\n",
    "\n",
    "\n",
    "# get LA dataframe for month of March from 1950-2013\n",
    "la_date = date_separater(citydata_list[la])\n",
    "la_march = march_data(la_date)\n",
    "\n",
    "la_data = la_march\n",
    "\n",
    "# get SP dataframe for month of March from 1950-2013\n",
    "sp_date = date_separater(citydata_list[sp])\n",
    "sp_march = march_data(sp_date)\n",
    "\n",
    "sp_data = sp_march\n",
    "\n",
    "# create scatter plot visualization\n",
    "plt.scatter(la_data['year'],la_data['AverageTemperature'], label=\"LA\") \n",
    "plt.scatter(sp_data['year'],sp_data['AverageTemperature'], label=\"St. Petersburg\")\n",
    "plt.title('Los Angeles & St. Petersburg: Average Temperature between year 1950-2013, in month March (Scatter)')\n",
    "plt.xlabel('Year')\n",
    "plt.ylabel('Average Temperature')\n",
    "plt.legend()\n",
    "plt.show()\n",
    "\n",
    "# create line plot visualization\n",
    "plt.plot(la_data['year'],la_data['AverageTemperature'], label=\"LA\") \n",
    "plt.plot(sp_data['year'],sp_data['AverageTemperature'], label=\"St. Petersburg\")\n",
    "plt.title('Los Angeles & St. Petersburg: Average Temperature between year 1950-2013, in month March (Line)')\n",
    "plt.xlabel('Year')\n",
    "plt.ylabel('Average Temperature')\n",
    "plt.legend()\n",
    "plt.show()"
   ]
  },
  {
   "cell_type": "markdown",
   "metadata": {},
   "source": [
    "The scatter and line plots of Los Angeles and St. Petersburg display the average temperatures of March 1st, 1950 to March 1st, 2013. From both plots, we can see that despite the temperatures being taken during March, Los Angeles is significantly warmer than St. Petersburg because the former has positive average temperatures whereas the latter has negative average temperatures. When examining the plots, we can also see that throughout the years, both cities display similar patterns of temperature changes, although the temperature seems to fluctuate a lot more for St. Petersburg. Generally, both cities have had temperature peaks and troughs during the the same time. This relates to our hypothesis because it demonstrates that while the two cities have completely different average temperatures, they are affected similarly as shown with the temperature patterns, so we would expect both models to have a similar accuracy."
   ]
  },
  {
   "cell_type": "markdown",
   "metadata": {},
   "source": [
    "# Models"
   ]
  },
  {
   "cell_type": "markdown",
   "metadata": {},
   "source": [
    "## 1. Linear Regression"
   ]
  },
  {
   "cell_type": "code",
   "execution_count": 7,
   "metadata": {},
   "outputs": [
    {
     "data": {
      "text/html": [
       "<div>\n",
       "<style scoped>\n",
       "    .dataframe tbody tr th:only-of-type {\n",
       "        vertical-align: middle;\n",
       "    }\n",
       "\n",
       "    .dataframe tbody tr th {\n",
       "        vertical-align: top;\n",
       "    }\n",
       "\n",
       "    .dataframe thead th {\n",
       "        text-align: right;\n",
       "    }\n",
       "</style>\n",
       "<table border=\"1\" class=\"dataframe\">\n",
       "  <thead>\n",
       "    <tr style=\"text-align: right;\">\n",
       "      <th></th>\n",
       "      <th>dt</th>\n",
       "      <th>AverageTemperature</th>\n",
       "      <th>AverageTemperatureUncertainty</th>\n",
       "      <th>City</th>\n",
       "      <th>Country</th>\n",
       "      <th>Latitude</th>\n",
       "      <th>Longitude</th>\n",
       "      <th>year</th>\n",
       "      <th>month</th>\n",
       "      <th>lat</th>\n",
       "      <th>long</th>\n",
       "      <th>year_int</th>\n",
       "    </tr>\n",
       "  </thead>\n",
       "  <tbody>\n",
       "    <tr>\n",
       "      <th>133060</th>\n",
       "      <td>1950-03-01</td>\n",
       "      <td>11.984</td>\n",
       "      <td>0.308</td>\n",
       "      <td>Los Angeles</td>\n",
       "      <td>United States</td>\n",
       "      <td>34.56N</td>\n",
       "      <td>118.70W</td>\n",
       "      <td>1950</td>\n",
       "      <td>03</td>\n",
       "      <td>34.56</td>\n",
       "      <td>118.7</td>\n",
       "      <td>1950</td>\n",
       "    </tr>\n",
       "    <tr>\n",
       "      <th>133072</th>\n",
       "      <td>1951-03-01</td>\n",
       "      <td>11.947</td>\n",
       "      <td>0.290</td>\n",
       "      <td>Los Angeles</td>\n",
       "      <td>United States</td>\n",
       "      <td>34.56N</td>\n",
       "      <td>118.70W</td>\n",
       "      <td>1951</td>\n",
       "      <td>03</td>\n",
       "      <td>34.56</td>\n",
       "      <td>118.7</td>\n",
       "      <td>1951</td>\n",
       "    </tr>\n",
       "    <tr>\n",
       "      <th>133084</th>\n",
       "      <td>1952-03-01</td>\n",
       "      <td>8.828</td>\n",
       "      <td>0.354</td>\n",
       "      <td>Los Angeles</td>\n",
       "      <td>United States</td>\n",
       "      <td>34.56N</td>\n",
       "      <td>118.70W</td>\n",
       "      <td>1952</td>\n",
       "      <td>03</td>\n",
       "      <td>34.56</td>\n",
       "      <td>118.7</td>\n",
       "      <td>1952</td>\n",
       "    </tr>\n",
       "    <tr>\n",
       "      <th>133096</th>\n",
       "      <td>1953-03-01</td>\n",
       "      <td>11.250</td>\n",
       "      <td>0.171</td>\n",
       "      <td>Los Angeles</td>\n",
       "      <td>United States</td>\n",
       "      <td>34.56N</td>\n",
       "      <td>118.70W</td>\n",
       "      <td>1953</td>\n",
       "      <td>03</td>\n",
       "      <td>34.56</td>\n",
       "      <td>118.7</td>\n",
       "      <td>1953</td>\n",
       "    </tr>\n",
       "    <tr>\n",
       "      <th>133108</th>\n",
       "      <td>1954-03-01</td>\n",
       "      <td>10.302</td>\n",
       "      <td>0.393</td>\n",
       "      <td>Los Angeles</td>\n",
       "      <td>United States</td>\n",
       "      <td>34.56N</td>\n",
       "      <td>118.70W</td>\n",
       "      <td>1954</td>\n",
       "      <td>03</td>\n",
       "      <td>34.56</td>\n",
       "      <td>118.7</td>\n",
       "      <td>1954</td>\n",
       "    </tr>\n",
       "  </tbody>\n",
       "</table>\n",
       "</div>"
      ],
      "text/plain": [
       "                dt  AverageTemperature  AverageTemperatureUncertainty  \\\n",
       "133060  1950-03-01              11.984                          0.308   \n",
       "133072  1951-03-01              11.947                          0.290   \n",
       "133084  1952-03-01               8.828                          0.354   \n",
       "133096  1953-03-01              11.250                          0.171   \n",
       "133108  1954-03-01              10.302                          0.393   \n",
       "\n",
       "               City        Country Latitude Longitude  year month    lat  \\\n",
       "133060  Los Angeles  United States   34.56N   118.70W  1950    03  34.56   \n",
       "133072  Los Angeles  United States   34.56N   118.70W  1951    03  34.56   \n",
       "133084  Los Angeles  United States   34.56N   118.70W  1952    03  34.56   \n",
       "133096  Los Angeles  United States   34.56N   118.70W  1953    03  34.56   \n",
       "133108  Los Angeles  United States   34.56N   118.70W  1954    03  34.56   \n",
       "\n",
       "         long  year_int  \n",
       "133060  118.7      1950  \n",
       "133072  118.7      1951  \n",
       "133084  118.7      1952  \n",
       "133096  118.7      1953  \n",
       "133108  118.7      1954  "
      ]
     },
     "execution_count": 7,
     "metadata": {},
     "output_type": "execute_result"
    }
   ],
   "source": [
    "# LA Linear Regression\n",
    "la_dataML = la_data.copy()\n",
    "la_dataML.head()"
   ]
  },
  {
   "cell_type": "code",
   "execution_count": 8,
   "metadata": {},
   "outputs": [],
   "source": [
    "# LA inputs and outputs\n",
    "la_inputs = la_dataML[['year_int']]\n",
    "la_outputs = la_dataML['AverageTemperature']"
   ]
  },
  {
   "cell_type": "code",
   "execution_count": 9,
   "metadata": {},
   "outputs": [
    {
     "data": {
      "text/html": [
       "<div>\n",
       "<style scoped>\n",
       "    .dataframe tbody tr th:only-of-type {\n",
       "        vertical-align: middle;\n",
       "    }\n",
       "\n",
       "    .dataframe tbody tr th {\n",
       "        vertical-align: top;\n",
       "    }\n",
       "\n",
       "    .dataframe thead th {\n",
       "        text-align: right;\n",
       "    }\n",
       "</style>\n",
       "<table border=\"1\" class=\"dataframe\">\n",
       "  <thead>\n",
       "    <tr style=\"text-align: right;\">\n",
       "      <th></th>\n",
       "      <th>dt</th>\n",
       "      <th>AverageTemperature</th>\n",
       "      <th>AverageTemperatureUncertainty</th>\n",
       "      <th>City</th>\n",
       "      <th>Country</th>\n",
       "      <th>Latitude</th>\n",
       "      <th>Longitude</th>\n",
       "      <th>year</th>\n",
       "      <th>month</th>\n",
       "      <th>lat</th>\n",
       "      <th>long</th>\n",
       "      <th>year_int</th>\n",
       "    </tr>\n",
       "  </thead>\n",
       "  <tbody>\n",
       "    <tr>\n",
       "      <th>195917</th>\n",
       "      <td>1950-03-01</td>\n",
       "      <td>-2.812</td>\n",
       "      <td>0.398</td>\n",
       "      <td>Saint Petersburg</td>\n",
       "      <td>Russia</td>\n",
       "      <td>60.27N</td>\n",
       "      <td>29.19E</td>\n",
       "      <td>1950</td>\n",
       "      <td>03</td>\n",
       "      <td>60.27</td>\n",
       "      <td>29.19</td>\n",
       "      <td>1950</td>\n",
       "    </tr>\n",
       "    <tr>\n",
       "      <th>195929</th>\n",
       "      <td>1951-03-01</td>\n",
       "      <td>-6.573</td>\n",
       "      <td>0.383</td>\n",
       "      <td>Saint Petersburg</td>\n",
       "      <td>Russia</td>\n",
       "      <td>60.27N</td>\n",
       "      <td>29.19E</td>\n",
       "      <td>1951</td>\n",
       "      <td>03</td>\n",
       "      <td>60.27</td>\n",
       "      <td>29.19</td>\n",
       "      <td>1951</td>\n",
       "    </tr>\n",
       "    <tr>\n",
       "      <th>195941</th>\n",
       "      <td>1952-03-01</td>\n",
       "      <td>-9.986</td>\n",
       "      <td>0.557</td>\n",
       "      <td>Saint Petersburg</td>\n",
       "      <td>Russia</td>\n",
       "      <td>60.27N</td>\n",
       "      <td>29.19E</td>\n",
       "      <td>1952</td>\n",
       "      <td>03</td>\n",
       "      <td>60.27</td>\n",
       "      <td>29.19</td>\n",
       "      <td>1952</td>\n",
       "    </tr>\n",
       "    <tr>\n",
       "      <th>195953</th>\n",
       "      <td>1953-03-01</td>\n",
       "      <td>-2.178</td>\n",
       "      <td>0.314</td>\n",
       "      <td>Saint Petersburg</td>\n",
       "      <td>Russia</td>\n",
       "      <td>60.27N</td>\n",
       "      <td>29.19E</td>\n",
       "      <td>1953</td>\n",
       "      <td>03</td>\n",
       "      <td>60.27</td>\n",
       "      <td>29.19</td>\n",
       "      <td>1953</td>\n",
       "    </tr>\n",
       "    <tr>\n",
       "      <th>195965</th>\n",
       "      <td>1954-03-01</td>\n",
       "      <td>-1.855</td>\n",
       "      <td>0.171</td>\n",
       "      <td>Saint Petersburg</td>\n",
       "      <td>Russia</td>\n",
       "      <td>60.27N</td>\n",
       "      <td>29.19E</td>\n",
       "      <td>1954</td>\n",
       "      <td>03</td>\n",
       "      <td>60.27</td>\n",
       "      <td>29.19</td>\n",
       "      <td>1954</td>\n",
       "    </tr>\n",
       "  </tbody>\n",
       "</table>\n",
       "</div>"
      ],
      "text/plain": [
       "                dt  AverageTemperature  AverageTemperatureUncertainty  \\\n",
       "195917  1950-03-01              -2.812                          0.398   \n",
       "195929  1951-03-01              -6.573                          0.383   \n",
       "195941  1952-03-01              -9.986                          0.557   \n",
       "195953  1953-03-01              -2.178                          0.314   \n",
       "195965  1954-03-01              -1.855                          0.171   \n",
       "\n",
       "                    City Country Latitude Longitude  year month    lat   long  \\\n",
       "195917  Saint Petersburg  Russia   60.27N    29.19E  1950    03  60.27  29.19   \n",
       "195929  Saint Petersburg  Russia   60.27N    29.19E  1951    03  60.27  29.19   \n",
       "195941  Saint Petersburg  Russia   60.27N    29.19E  1952    03  60.27  29.19   \n",
       "195953  Saint Petersburg  Russia   60.27N    29.19E  1953    03  60.27  29.19   \n",
       "195965  Saint Petersburg  Russia   60.27N    29.19E  1954    03  60.27  29.19   \n",
       "\n",
       "        year_int  \n",
       "195917      1950  \n",
       "195929      1951  \n",
       "195941      1952  \n",
       "195953      1953  \n",
       "195965      1954  "
      ]
     },
     "execution_count": 9,
     "metadata": {},
     "output_type": "execute_result"
    }
   ],
   "source": [
    "# SP linear regression\n",
    "sp_dataML = sp_data.copy()\n",
    "sp_dataML.head()"
   ]
  },
  {
   "cell_type": "code",
   "execution_count": 10,
   "metadata": {},
   "outputs": [],
   "source": [
    "# SP inputs and outputs\n",
    "sp_inputs = sp_dataML[['year_int']]\n",
    "sp_outputs = sp_dataML['AverageTemperature']"
   ]
  },
  {
   "cell_type": "code",
   "execution_count": 11,
   "metadata": {},
   "outputs": [
    {
     "name": "stdout",
     "output_type": "stream",
     "text": [
      "Score: 0.08494438810511884\n"
     ]
    },
    {
     "data": {
      "image/png": "[encoded data removed]",
      "text/plain": [
       "<Figure size 432x288 with 1 Axes>"
      ]
     },
     "metadata": {
      "needs_background": "light"
     },
     "output_type": "display_data"
    }
   ],
   "source": [
    "# LA Linear Regression\n",
    "lin_reg=LinearRegression()\n",
    "lax_train, lax_test, lay_train, lay_test = train_test_split(la_inputs, la_outputs, test_size=0.4, random_state=42)\n",
    "lin_reg.fit(lax_train, lay_train)\n",
    "lapredictions = lin_reg.predict(lax_test)\n",
    "print(\"Score:\", lin_reg.score(lax_test, lay_test))\n",
    "plt.scatter(lax_test, lay_test)\n",
    "plt.scatter(lax_test, lapredictions, color=\"red\")\n",
    "plt.legend([\"Actual Values\",\"Predictions\"])\n",
    "plt.title('Time vs Average Temp in March')\n",
    "plt.xlabel('Time')\n",
    "plt.ylabel('Average Temp in March')\n",
    "plt.show()"
   ]
  },
  {
   "cell_type": "code",
   "execution_count": 12,
   "metadata": {},
   "outputs": [
    {
     "name": "stdout",
     "output_type": "stream",
     "text": [
      "Score: 0.09148989553245568\n"
     ]
    },
    {
     "data": {
      "image/png": "[encoded data removed]",
      "text/plain": [
       "<Figure size 432x288 with 1 Axes>"
      ]
     },
     "metadata": {
      "needs_background": "light"
     },
     "output_type": "display_data"
    }
   ],
   "source": [
    "# St. Petersburg Linear Regression\n",
    "lin_reg=LinearRegression()\n",
    "spx_train, spx_test, spy_train, spy_test = train_test_split(sp_inputs, sp_outputs, test_size=0.4, random_state=42)\n",
    "lin_reg.fit(spx_train, spy_train)\n",
    "sppredictions = lin_reg.predict(spx_test)\n",
    "print(\"Score:\", lin_reg.score(spx_test, spy_test))\n",
    "plt.scatter(spx_test, spy_test)\n",
    "plt.scatter(spx_test, sppredictions, color=\"red\")\n",
    "plt.legend([\"Actual Values\",\"Predictions\"])\n",
    "plt.title('Time vs Average Temp in March')\n",
    "plt.xlabel('Time')\n",
    "plt.ylabel('Average Temp in March')\n",
    "plt.show()"
   ]
  },
  {
   "cell_type": "markdown",
   "metadata": {},
   "source": [
    "### Linear Regression Analysis\n",
    "We have decided to use a linear regression to use previously recorded temperatures to predict future temperatures in cities such as Los Angeles and St. Petersburg. We call a function in sklearn called `LinearRegression` and stored the result in `lin_reg`. `lin_reg` now is an object that contains several functions to make predictions. Given the known years and corresponding temperatures in the month of March, we use this data to predict the temperatures.\n",
    "<br>\n",
    "<br>\n",
    "After using a linear regression model on the data for Los Angeles and St. Petersburg, we see that the scores for these cities are 0.08494438810511884 and 0.09148989553245568, respectively. We have learned that these scores are an indicator of how accurate the predictions are with the best score being 1. Given that our scores are not high and closer to 0 than 1, we can see that our predictions of temperatures in the month of March for Los Angeles and St. Petersburg are not very accurate. One thing to consider is that these models don't account for any potential population changes that occured in this timeframe."
   ]
  },
  {
   "cell_type": "markdown",
   "metadata": {},
   "source": [
    "## 2. Time Series Autoregression"
   ]
  },
  {
   "cell_type": "markdown",
   "metadata": {},
   "source": [
    "Source: https://www.econometrics-with-r.org/14-ittsraf.html\n",
    "<br>\n",
    "<br>\n",
    "For our second model, we have chosen to do a time series autoregression model. According to the textbook cited above, time series is often used for data \"collected for a single entity over time.\" As our data represents the temperatures of a specific city from 1950 to 2013 on the first day of March, we thought that this model was most appropriate. We also hoped that this model would take into consideration any population changes that occured from 1950-2013."
   ]
  },
  {
   "cell_type": "code",
   "execution_count": 13,
   "metadata": {
    "scrolled": true
   },
   "outputs": [
    {
     "data": {
      "image/png": "[encoded data removed]",
      "text/plain": [
       "<Figure size 432x288 with 1 Axes>"
      ]
     },
     "metadata": {
      "needs_background": "light"
     },
     "output_type": "display_data"
    },
    {
     "data": {
      "image/png": "[encoded data removed]",
      "text/plain": [
       "<Figure size 432x288 with 1 Axes>"
      ]
     },
     "metadata": {
      "needs_background": "light"
     },
     "output_type": "display_data"
    }
   ],
   "source": [
    "# Lag plot for St. Petersburg\n",
    "lag_plot(sp_data[\"AverageTemperature\"])\n",
    "plt.title (\"Lag Plot for SP data\")\n",
    "plt.xlabel(\"Average Temperature in March\")\n",
    "plt.ylabel(\"Average Temperature in March of Previous Year\")\n",
    "plt.show()\n",
    "\n",
    "# autocorrelation plot for SP data\n",
    "autocorrelation_plot(sp_data[\"AverageTemperature\"])\n",
    "plt.title (\"Autocorrelation Plot for SP data\")\n",
    "plt.show()"
   ]
  },
  {
   "cell_type": "markdown",
   "metadata": {},
   "source": [
    "### St. Petersburg Data\n",
    "For our data about the city of St. Petersburg, we constructed a lag plot to see if there was an autocorrelation in our time series dataset using the lag_plot() function provided in Pandas. We run the temperature data on the x-axis against the temperature data on the previous year on the y-axis. There appears to be some diagonal line from the values -8 to -4 in the x-axis. However, most of the plots are scattered and do not give a strong line. Given that there is no definitive pattern in the scatter plot as each temperature seems to be independent, we cannot say that this plot shows a relationship between the temperature and temperature of the previous year in St. Petersburg.\n",
    "<br>\n",
    "<br>\n",
    "We also made an autocorrelation plot, which plots the correlation coefficient for each lag variable from the previously constructed plot. The horizontal axis is the lag variable while the vertical axis is the corresponding correlation coefficient value between -1 and 1. The solid and dashed lines represent a 95% and 99% confidence interval, respectively. While none of the values pass the 99% confidence interval line, there is one value (8) that is above the 95% confidence interval line, so we decided to use 8 as our lag value, as it seemed to be the most significant lag value compared to the rest"
   ]
  },
  {
   "cell_type": "code",
   "execution_count": 14,
   "metadata": {},
   "outputs": [
    {
     "name": "stdout",
     "output_type": "stream",
     "text": [
      "MSE:  8.638858726579555\n"
     ]
    },
    {
     "data": {
      "image/png": "[encoded data removed]",
      "text/plain": [
       "<Figure size 432x288 with 1 Axes>"
      ]
     },
     "metadata": {
      "needs_background": "light"
     },
     "output_type": "display_data"
    }
   ],
   "source": [
    "# Source: https://machinelearningmastery.com/autoregression-models-time-series-forecasting-python/\n",
    "model = AutoReg(spy_train, lags=8)\n",
    "model_fit = model.fit()\n",
    "predictions = model_fit.predict(start=len(spy_train), end=len(spy_train)+len(spy_test)-1, dynamic=False)\n",
    "print(\"MSE: \", mean_squared_error(spy_test, predictions))\n",
    "plt.scatter(spx_test, spy_test)\n",
    "plt.scatter(spx_test, predictions, color=\"red\")\n",
    "plt.legend([\"Actual Values\",\"Predictions\"])\n",
    "plt.title('Time vs Average Temp')\n",
    "plt.xlabel('Time')\n",
    "plt.ylabel('Average Temp')\n",
    "plt.show()"
   ]
  },
  {
   "cell_type": "markdown",
   "metadata": {},
   "source": [
    "As defined in the source link, an autoregression model is a linear regression model that uses lagged variables as input variables. When using this model, we see from the scatter plot that the average temperature of St. Petersburg in the month of March was expected to be roughly between -4 and -2 degrees consistently over the span of approximately 60 years. This forecast differs from the actual values as the reported temperatures varied from -10 to 0 degrees during this same span. \n",
    "<br>\n",
    "<br>\n",
    "The mean-squared error of this model is 8.638858726579555. This value tells how close our predicted temperature values from the regression model is to our actual data. As our MSE is 8.638858726579555, this means that for the city of St. Petersburg, our data is not very close to the line of best fit determined from the model."
   ]
  },
  {
   "cell_type": "code",
   "execution_count": 15,
   "metadata": {},
   "outputs": [
    {
     "data": {
      "image/png": "[encoded data removed]",
      "text/plain": [
       "<Figure size 432x288 with 1 Axes>"
      ]
     },
     "metadata": {
      "needs_background": "light"
     },
     "output_type": "display_data"
    },
    {
     "data": {
      "image/png": "[encoded data removed]",
      "text/plain": [
       "<Figure size 432x288 with 1 Axes>"
      ]
     },
     "metadata": {
      "needs_background": "light"
     },
     "output_type": "display_data"
    }
   ],
   "source": [
    "# Lag plot for LA\n",
    "lag_plot(la_data[\"AverageTemperature\"])\n",
    "plt.title (\"Lag Plot for LA data\")\n",
    "plt.xlabel(\"Average Temperature in March\")\n",
    "plt.ylabel(\"Average Temperature in March of Previous Year\")\n",
    "plt.show()\n",
    "\n",
    "# autocorrelation plot for LA data\n",
    "autocorrelation_plot(la_data[\"AverageTemperature\"])\n",
    "plt.title (\"Autocorrelation Plot for LA data\")\n",
    "plt.show()"
   ]
  },
  {
   "cell_type": "markdown",
   "metadata": {},
   "source": [
    "### Los Angeles Data\n",
    "For our data about the city of Los Angeles, we constructed a lag plot to see if there was an autocorrelation in our time series dataset using the lag_plot() function provided in Pandas. We run the temperature data on the x-axis against the temperature data on the previous year on the y-axis. Given that there is no definitive pattern in the scatter plot as each temperature seems to be independent, we cannot say that this plot shows a relationship between the temperature and temperature of the previous year in Los Angeles.\n",
    "<br>\n",
    "<br>\n",
    "We also made an autocorrelation plot, which plots the correlation coefficient for each lag variable from the previously constructed plot. The horizontal axis is the lag variable while the vertical axis is the corresponding correlation coefficient value between -1 and 1. The solid and dashed lines represent a 95% and 99% confidence interval, respectively. As none of the correlation coefficient values pass these lines, no correlation coefficient value is more significant than the others. Since this was the case, we also decided to use a lag value of 8 so as to give a better comparison between the St. Petersburg model and the Los Angeles model, since the lag value was 8 for the St. Petersburg model."
   ]
  },
  {
   "cell_type": "code",
   "execution_count": 16,
   "metadata": {},
   "outputs": [
    {
     "name": "stdout",
     "output_type": "stream",
     "text": [
      "MSE:  247.6940078749513\n"
     ]
    },
    {
     "data": {
      "image/png": "[encoded data removed]",
      "text/plain": [
       "<Figure size 432x288 with 1 Axes>"
      ]
     },
     "metadata": {
      "needs_background": "light"
     },
     "output_type": "display_data"
    }
   ],
   "source": [
    "# Source: https://machinelearningmastery.com/autoregression-models-time-series-forecasting-python/\n",
    "model = AutoReg(lay_train, lags=8)\n",
    "model_fit = model.fit()\n",
    "predictions = model_fit.predict(start=len(lay_train), end=len(lay_train)+len(lay_test)-1, dynamic=False)\n",
    "print(\"MSE: \", mean_squared_error(spy_test, predictions))\n",
    "plt.scatter(lax_test, lay_test)\n",
    "plt.scatter(lax_test, predictions, color=\"red\")\n",
    "plt.legend([\"Actual Values\",\"Predictions\"])\n",
    "plt.title('Time vs Average Temp')\n",
    "plt.xlabel('Time')\n",
    "plt.ylabel('Average Temp')\n",
    "plt.show()"
   ]
  },
  {
   "cell_type": "markdown",
   "metadata": {},
   "source": [
    "When using this model for the city of Los Angeles, we see from the scatter plot that the average temperature in the month of March was expected to be roughly 12 degrees consistently over the span of approximately 60 years. This forecast differs from the actual values as the reported temperatures varied from 9 to 16 degrees during this same span. \n",
    "<br>\n",
    "<br>\n",
    "The mean-squared error of this model is 247.6940078749513. This value tells how close our predicted temperature values from the regression model is to our actual data. As our MSE is 247.6940078749513, this means that for the city of Los Angeles, our data is not very far to the line of best fit determined from the model.\n",
    "<br>\n",
    "<br>\n",
    "Comparing the autoregression models used for Los Angeles and St. Petersburg during the same month and same span of time, we can see that the models were not very accurate in their predictions of the temperatures. The autoregression model for Los Angeles had a MSE that was significantly larger than that of St. Petersburg, showing us that the autoregression model was a lot more inaccurate given that the actual values were not close to the predictions."
   ]
  },
  {
   "cell_type": "markdown",
   "metadata": {},
   "source": [
    "## Conclusion\n",
    "Comparing the linear regression models and the time series autoregression models for Los Angeles and St. Petersburg in the month of March from 1950 to 2013, we can see that both models were similar in that they did not provide accurate predictions in the average temperatures. The linear regression models had scores that were not greater than 0.1, where the best score is a 1. This suggests that the linear regression model is not a good model to predict temperatures for the two cities. The time series autoregression models also showed that there was no relationship between year and average temperatures because the lag plots for the two cities were very scattered and showed no correlation. In addition, while the model predicted a consistent value for the temperatures throughout the period of time, the actual temperatures reported for both cities varied greatly. This led to high MSEs, especially shown with the city of Los Angeles (247.6940078749513). This tells us that the time series autoregression models were not a good indicator to predict average temperatures for the two cities over a period of time. When creating these two models, we examined the relationship between year and average temperature for the cities of Los Angeles and St. Petersburg in the month of March over a span of roughly 60 years. The information from the models tells us that you cannot make an accurate prediction of the temperature from 1950-2013 just based off of temperature data from 1950-1957. The St. Petersburg model had better accuracy then the Los Angeles model, since the MSE was significantly smaller, but the MSE of the St. Petersburg model was still large. This tells us that the accuracy of the models is about the same in that both models are not accurate, so in that way, our hypothesis was correct. One thing that we could do, if we had more time, would be to look at the population changes and factor that into our machine learning model. We could also look at other data such as CO2 emissions or change in number of cars, but we would have to be careful as these two things are related to population changes and we wouldn't want the variables in our model to be "
   ]
  }
 ],
 "metadata": {
  "kernelspec": {
   "display_name": "Python 3",
   "language": "python",
   "name": "python3"
  },
  "language_info": {
   "codemirror_mode": {
    "name": "ipython",
    "version": 3
   },
   "file_extension": ".py",
   "mimetype": "text/x-python",
   "name": "python",
   "nbconvert_exporter": "python",
   "pygments_lexer": "ipython3",
   "version": "3.8.3"
  }
 },
 "nbformat": 4,
 "nbformat_minor": 4
}
