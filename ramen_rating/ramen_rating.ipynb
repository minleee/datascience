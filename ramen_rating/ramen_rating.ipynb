{
 "cells": [
  {
   "cell_type": "markdown",
   "metadata": {},
   "source": [
    "# Data Science Project (ramen-ratings.csv)\n",
    "INFO 1998 Fall 2020\n",
    "<br>\n",
    "<br>\n",
    "Completed: October 30, 2020 \n",
    "<br>\n",
    "Members: Emma Wang (yw345), Seungmin Lee (sl2324), Lydia Kim (lmk225)\n",
    "\n",
    "\n"
   ]
  },
  {
   "cell_type": "markdown",
   "metadata": {},
   "source": [
    "## Preprocessing and Manipulation\n",
    "\n",
    "Dataset: https://www.kaggle.com/residentmario/ramen-ratings\n",
    "\n",
    "Question: What are the common ratings of ramen? What are the ratings of the most popular ramen?\n",
    "_____"
   ]
  },
  {
   "cell_type": "code",
   "execution_count": 1,
   "metadata": {},
   "outputs": [],
   "source": [
    "# import libraries\n",
    "import pandas as pd\n",
    "import numpy as np\n",
    "from numpy import random\n",
    "import matplotlib.pyplot as plt\n",
    "%matplotlib inline"
   ]
  },
  {
   "cell_type": "code",
   "execution_count": 2,
   "metadata": {},
   "outputs": [],
   "source": [
    "# import ramen dataset\n",
    "df=pd.read_csv('ramen-ratings.csv')"
   ]
  },
  {
   "cell_type": "code",
   "execution_count": 3,
   "metadata": {},
   "outputs": [
    {
     "data": {
      "text/plain": [
       "Index(['Review #', 'Brand', 'Variety', 'Style', 'Country', 'Stars'], dtype='object')"
      ]
     },
     "execution_count": 3,
     "metadata": {},
     "output_type": "execute_result"
    }
   ],
   "source": [
    "# delete 'Top Ten' column\n",
    "# citation: https://stackoverflow.com/questions/28035839/how-to-delete-a-column-from-a-data-frame-with-pandas\n",
    "del df['Top Ten']\n",
    "\n",
    "# check the columns in dataframe\n",
    "df.columns"
   ]
  },
  {
   "cell_type": "code",
   "execution_count": 4,
   "metadata": {
    "scrolled": true
   },
   "outputs": [
    {
     "data": {
      "text/html": [
       "<div>\n",
       "<style scoped>\n",
       "    .dataframe tbody tr th:only-of-type {\n",
       "        vertical-align: middle;\n",
       "    }\n",
       "\n",
       "    .dataframe tbody tr th {\n",
       "        vertical-align: top;\n",
       "    }\n",
       "\n",
       "    .dataframe thead th {\n",
       "        text-align: right;\n",
       "    }\n",
       "</style>\n",
       "<table border=\"1\" class=\"dataframe\">\n",
       "  <thead>\n",
       "    <tr style=\"text-align: right;\">\n",
       "      <th></th>\n",
       "      <th>Review #</th>\n",
       "      <th>Brand</th>\n",
       "      <th>Variety</th>\n",
       "      <th>Style</th>\n",
       "      <th>Country</th>\n",
       "      <th>Stars</th>\n",
       "    </tr>\n",
       "  </thead>\n",
       "  <tbody>\n",
       "    <tr>\n",
       "      <th>0</th>\n",
       "      <td>2580</td>\n",
       "      <td>New Touch</td>\n",
       "      <td>T's Restaurant Tantanmen</td>\n",
       "      <td>Cup</td>\n",
       "      <td>Japan</td>\n",
       "      <td>3.75</td>\n",
       "    </tr>\n",
       "    <tr>\n",
       "      <th>1</th>\n",
       "      <td>2579</td>\n",
       "      <td>Just Way</td>\n",
       "      <td>Noodles Spicy Hot Sesame Spicy Hot Sesame Guan...</td>\n",
       "      <td>Pack</td>\n",
       "      <td>Taiwan</td>\n",
       "      <td>1</td>\n",
       "    </tr>\n",
       "    <tr>\n",
       "      <th>2</th>\n",
       "      <td>2578</td>\n",
       "      <td>Nissin</td>\n",
       "      <td>Cup Noodles Chicken Vegetable</td>\n",
       "      <td>Cup</td>\n",
       "      <td>USA</td>\n",
       "      <td>2.25</td>\n",
       "    </tr>\n",
       "    <tr>\n",
       "      <th>3</th>\n",
       "      <td>2577</td>\n",
       "      <td>Wei Lih</td>\n",
       "      <td>GGE Ramen Snack Tomato Flavor</td>\n",
       "      <td>Pack</td>\n",
       "      <td>Taiwan</td>\n",
       "      <td>2.75</td>\n",
       "    </tr>\n",
       "    <tr>\n",
       "      <th>4</th>\n",
       "      <td>2576</td>\n",
       "      <td>Ching's Secret</td>\n",
       "      <td>Singapore Curry</td>\n",
       "      <td>Pack</td>\n",
       "      <td>India</td>\n",
       "      <td>3.75</td>\n",
       "    </tr>\n",
       "  </tbody>\n",
       "</table>\n",
       "</div>"
      ],
      "text/plain": [
       "   Review #           Brand  \\\n",
       "0      2580       New Touch   \n",
       "1      2579        Just Way   \n",
       "2      2578          Nissin   \n",
       "3      2577         Wei Lih   \n",
       "4      2576  Ching's Secret   \n",
       "\n",
       "                                             Variety Style Country Stars  \n",
       "0                          T's Restaurant Tantanmen    Cup   Japan  3.75  \n",
       "1  Noodles Spicy Hot Sesame Spicy Hot Sesame Guan...  Pack  Taiwan     1  \n",
       "2                      Cup Noodles Chicken Vegetable   Cup     USA  2.25  \n",
       "3                      GGE Ramen Snack Tomato Flavor  Pack  Taiwan  2.75  \n",
       "4                                    Singapore Curry  Pack   India  3.75  "
      ]
     },
     "execution_count": 4,
     "metadata": {},
     "output_type": "execute_result"
    }
   ],
   "source": [
    "# see first 5 rows of dataframe df\n",
    "df.head(5) "
   ]
  },
  {
   "cell_type": "markdown",
   "metadata": {},
   "source": [
    "## Visualizations"
   ]
  },
  {
   "cell_type": "markdown",
   "metadata": {},
   "source": [
    "### Visualization 1: Bar Graph"
   ]
  },
  {
   "cell_type": "code",
   "execution_count": 5,
   "metadata": {},
   "outputs": [],
   "source": [
    "# clean up dataframe and store into ramen_data\n",
    "ramen_data = df.loc[df['Stars'] != 'Unrated']\n",
    "ramen_data = ramen_data.astype({\"Stars\": float})\n",
    "\n",
    "dict={}\n",
    "counter=0\n",
    "# create dictionary dict with key : brand, value : ratings\n",
    "for i in ramen_data['Brand']:\n",
    "    if(i in dict):\n",
    "        x=ramen_data.iloc[counter]['Stars']\n",
    "        x=float(x)\n",
    "        dict[i].append(x)\n",
    "    else:\n",
    "        x=ramen_data.iloc[counter]['Stars']\n",
    "        x=float(x)\n",
    "        dict[i]=[x]\n",
    "    counter=counter+1\n",
    "\n",
    "# create dictionary dict2 with key : brand, value : average rating\n",
    "dict2={}\n",
    "for i in dict:\n",
    "    y=np.array(dict[i])\n",
    "    average=y.mean()\n",
    "    dict2[i]=[average]\n",
    "\n",
    "# create dictionary dict3 for ratings of (4.0, 5.0]\n",
    "dict3 ={}\n",
    "for i in dict2:\n",
    "    if(dict2[i][0]<=5 and dict2[i][0]>4):\n",
    "        dict3[i]=dict2[i]\n",
    "        \n",
    "# create dictionary dict4 for ratings of (3.0, 4.0]      \n",
    "dict4={}\n",
    "for i in dict2:\n",
    "    if(dict2[i][0]<=4 and dict2[i][0]>3):\n",
    "        dict4[i]=dict2[i]\n",
    "        \n",
    "# create dictionary dict5 for ratings of (2.0, 3.0]        \n",
    "dict5={}\n",
    "for i in dict2:\n",
    "    if(dict2[i][0]<=3 and dict2[i][0]>2):\n",
    "        dict5[i]=dict2[i]\n",
    "        \n",
    "# create dictionary dict6 for ratings of (1.0, 2.0] \n",
    "dict6={}\n",
    "for i in dict2:\n",
    "    if(dict2[i][0]<=2 and dict2[i][0]>1):\n",
    "        dict6[i]=dict2[i]\n",
    "\n",
    "# create dictionary dict7 for ratings of [0.0, 1.0] \n",
    "dict7={}\n",
    "for i in dict2:\n",
    "    if(dict2[i][0]<=1 and dict2[i][0]>=0):\n",
    "        dict7[i]=dict2[i]"
   ]
  },
  {
   "cell_type": "code",
   "execution_count": 6,
   "metadata": {},
   "outputs": [
    {
     "data": {
      "image/png": "[encoded data removed]",
      "text/plain": [
       "<Figure size 432x288 with 1 Axes>"
      ]
     },
     "metadata": {
      "needs_background": "light"
     },
     "output_type": "display_data"
    }
   ],
   "source": [
    "# create bar graph categories\n",
    "fourFive=len(dict3)\n",
    "threeFour=len(dict4)\n",
    "twoThree=len(dict5)\n",
    "oneTwo=len(dict6)\n",
    "zeroOne=len(dict7)\n",
    "\n",
    "# create and show bar graph\n",
    "plt.bar([0,1,2,3,4],[zeroOne,oneTwo,twoThree,threeFour,fourFive],align='center',color='black') \n",
    "\n",
    "plt.title('Frequency of Ratings Bar Graph')\n",
    "plt.xticks([0,1,2,3,4],['0 to 1','1 to 2','2 to 3','3 to 4','4 to 5'])\n",
    "plt.xlabel('Ratings')\n",
    "plt.ylabel('Frequency')\n",
    "\n",
    "plt.show()"
   ]
  },
  {
   "cell_type": "markdown",
   "metadata": {},
   "source": [
    "### Visualization 2: Box Plot"
   ]
  },
  {
   "cell_type": "code",
   "execution_count": 7,
   "metadata": {},
   "outputs": [
    {
     "name": "stdout",
     "output_type": "stream",
     "text": [
      "['Nissin', 'Nongshim', 'Paldo', 'Maruchan', 'Mama']\n"
     ]
    },
    {
     "data": {
      "image/png": "[encoded data removed]",
      "text/plain": [
       "<Figure size 432x288 with 1 Axes>"
      ]
     },
     "metadata": {
      "needs_background": "light"
     },
     "output_type": "display_data"
    }
   ],
   "source": [
    "# create and print list of top 5 reviewed brands\n",
    "x=[]\n",
    "for i in dict:\n",
    "    if(len(dict[i]) >65):\n",
    "        x.append(i)       \n",
    "print(x)\n",
    "\n",
    "# create and show box plot of top 5 reviewed brands\n",
    "ramenBox=plt.boxplot([dict['Nissin'],dict['Nongshim'],dict['Paldo'],dict['Maruchan'],dict['Mama']])\n",
    "\n",
    "plt.title('Top Five Reviewed Ramen Brands Box Plot')\n",
    "plt.xticks([1,2,3,4,5],['Nissin','Nongshim','Paldo','Maruchan','Mama'])\n",
    "\n",
    "plt.show()"
   ]
  },
  {
   "cell_type": "markdown",
   "metadata": {},
   "source": [
    "## Write-Up"
   ]
  },
  {
   "cell_type": "markdown",
   "metadata": {},
   "source": [
    "As stated above, the questions that we wanted to answer were: What are the common ratings of ramen? What are the ratings of the most popular ramen?"
   ]
  },
  {
   "cell_type": "markdown",
   "metadata": {},
   "source": [
    "### Visualization 1: Bar Graph\n",
    "\n",
    "To answer the first question, our group created a bar graph that portrayed the frequency of ramen ratings. As each ramen review was based on a scale of 0 to 5, we separated the ratings into five ordinal categories: 0 to 1, 1 to 2, 2 go 3, 3 to 4, and 4 to 5. The frequency of each category was plotted as a bar in the bar graph. Based on the visualization, we are able to infer that the most common rating for the ramen reviews are between 3 and 4 because its bar had the highest frequency of 176 reviews. Ratings between 4 and 5 stars came in second with 87 reviews, followed by ratings between 2 and 3 stars, ratings between 0 and 1 stars, and ratings between 1 and 2 stars. As the majority of ramen reviews had ratings above 3 stars, we can infer that most people who reviewed the ramen found their food to be satisfactory, as it is generally accepted that a rating of 3.0+ means that the food has been acceptable or better."
   ]
  },
  {
   "cell_type": "markdown",
   "metadata": {},
   "source": [
    "### Visualization 2: Box Plot\n",
    "\n",
    "To answer the second question, our group created a box plot of the top 5 reviewed ramen brands. We chose to create a box plot with the top 5 reviewed ramen brands because as there are more reviews, this means that each dataset is more representative of the reviewers and minimizes the skew of data due to extremely high or extremely low ratings. We identified the top 5 reviewed ramen brands to be: Nissin, Nongshim, Paldo, Maruchan, and Mama. By creating these box plots, we could visualize the spread of these ramen brands. Based on the visualization, we were able to identify the median ratings of these brands: Nissin - 4.0, Nongshim - 4.0, Paldo - 4.0, Maruchan - 3.75, and Mama - 3.5. As the median ratings of Nissin, Nongshim, and Paldo are higher than those of Maruchan and Mama, this tells us that the distribution of their ratings include higher ratings. \n",
    "\n",
    "Through the visualization, we are able to see that Mama has three outliers, or three reviews that are greater than 1.5 times the interquartile range. We can infer that because of these three outliers, the distribution of Mama's dataset could have been skewed to have a lower median rating. It is important to note that all top 5 reviewed ramen brands have at least one outlier in their dataset, as seen with the open circles above. In addition, although Nissin, Nongshim, and Paldo have the same median rating, their box plots look different. While Nissin and Nongshim's box plot look similar with the difference that Nissin has 2 outliers whereas Nongshim has 1 outlier, Paldo's box visualization differs greatly. Paldo's third quartile range is larger and maximum (fourth quartile) range is smaller than those of Nissin and Nongshim. This tells us that Paldo has more higher ratings as the maximum range is smaller and is associated with 25% of the ratings.\n",
    "\n",
    "From the box plot, we can infer that the top 5 reviewed ramen brands generally had good ratings as their median ratings have all been 3.5+. However, they also had some negative reviews as each brand had at least one outlier that was below 1.5 times the interquartile range."
   ]
  }
 ],
 "metadata": {
  "kernelspec": {
   "display_name": "Python 3",
   "language": "python",
   "name": "python3"
  },
  "language_info": {
   "codemirror_mode": {
    "name": "ipython",
    "version": 3
   },
   "file_extension": ".py",
   "mimetype": "text/x-python",
   "name": "python",
   "nbconvert_exporter": "python",
   "pygments_lexer": "ipython3",
   "version": "3.8.3"
  },
  "notebookId": "^EG=G=bpDp\\gp"
 },
 "nbformat": 4,
 "nbformat_minor": 4
}
